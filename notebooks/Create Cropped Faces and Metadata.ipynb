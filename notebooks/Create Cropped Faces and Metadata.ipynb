{
 "cells": [
  {
   "cell_type": "code",
   "execution_count": 46,
   "metadata": {},
   "outputs": [],
   "source": [
    "import os\n",
    "import re\n",
    "import matplotlib.pyplot as plt\n",
    "from utils.imutil import *\n",
    "from utils.list_all_files import *\n",
    "from utils.crop import *\n",
    "from utils.progress import *\n",
    "from utils.mosaic import *\n",
    "from utils.draw_shapes import *\n",
    "\n",
    "import ujson\n",
    "import numpy as np"
   ]
  },
  {
   "cell_type": "code",
   "execution_count": 57,
   "metadata": {},
   "outputs": [],
   "source": [
    "input_dir = '../data/openface+microsoft/json'"
   ]
  },
  {
   "cell_type": "code",
   "execution_count": 58,
   "metadata": {},
   "outputs": [],
   "source": [
    "json_filenames = list(list_all_files(input_dir))"
   ]
  },
  {
   "cell_type": "code",
   "execution_count": 79,
   "metadata": {},
   "outputs": [
    {
     "name": "stdout",
     "output_type": "stream",
     "text": [
      "59278 0:00:12 5020.44/s\n"
     ]
    }
   ],
   "source": [
    "filenames = []\n",
    "reps = []\n",
    "rects = []\n",
    "ages = []\n",
    "genders = []\n",
    "\n",
    "for fn in progress(json_filenames):\n",
    "    with open(fn) as f:\n",
    "        try:\n",
    "            data = ujson.load(f)\n",
    "        except:\n",
    "            print(f.read())\n",
    "            break\n",
    "        \n",
    "    for face in data['facesFromOpenFace']:\n",
    "        try:\n",
    "            rects.append([face[key] for key in 'YBXR'])\n",
    "            reps.append(face['rep'])\n",
    "            ages.append(face['age'])\n",
    "            genders.append(face['gender'])\n",
    "            filenames.append(data['imageName'])\n",
    "        except KeyError:\n",
    "            pass"
   ]
  },
  {
   "cell_type": "code",
   "execution_count": 160,
   "metadata": {},
   "outputs": [],
   "source": [
    "n_categories = 20\n",
    "age_limits = []\n",
    "for pct in np.linspace(0, 100, n_categories+1):\n",
    "    if pct == 0:\n",
    "        continue\n",
    "    limit = np.percentile(ages, pct)\n",
    "    age_limits.append(limit)"
   ]
  },
  {
   "cell_type": "code",
   "execution_count": 161,
   "metadata": {},
   "outputs": [
    {
     "data": {
      "text/plain": [
       "[6.099999904632568,\n",
       " 11.899999618530273,\n",
       " 17.700000762939453,\n",
       " 22.100000381469727,\n",
       " 25.100000381469727,\n",
       " 27.299999237060547,\n",
       " 29.0,\n",
       " 30.600000381469727,\n",
       " 32.20000076293945,\n",
       " 33.79999923706055,\n",
       " 35.599998474121094,\n",
       " 37.5,\n",
       " 39.599998474121094,\n",
       " 41.79999923706055,\n",
       " 44.20000076293945,\n",
       " 47.099998474121094,\n",
       " 50.70000076293945,\n",
       " 56.0,\n",
       " 65.0999984741211,\n",
       " 95.30000305175781]"
      ]
     },
     "execution_count": 161,
     "metadata": {},
     "output_type": "execute_result"
    }
   ],
   "source": [
    "age_limits"
   ]
  },
  {
   "cell_type": "code",
   "execution_count": 162,
   "metadata": {},
   "outputs": [
    {
     "data": {
      "image/png": "[encoded data removed]",
      "text/plain": [
       "<matplotlib.figure.Figure at 0x7fe98e8715f8>"
      ]
     },
     "metadata": {},
     "output_type": "display_data"
    }
   ],
   "source": [
    "plt.hist([age for age,gender in zip(ages, genders) if gender == 'male'], bins=20, histtype='step', label='male')\n",
    "plt.hist([age for age,gender in zip(ages, genders) if gender == 'female'], bins=20, histtype='step', label='female')\n",
    "for age in age_limits:\n",
    "    plt.axvline(age, linestyle='--')\n",
    "plt.legend()\n",
    "plt.show()"
   ]
  },
  {
   "cell_type": "code",
   "execution_count": 163,
   "metadata": {},
   "outputs": [],
   "source": [
    "def natural_sort_key(s, _nsre=re.compile('([0-9]+)')):\n",
    "    return [int(text) if text.isdigit() else text.lower()\n",
    "            for text in _nsre.split(s)]\n",
    "\n",
    "faces_packed = list(zip(filenames, reps, rects, ages, genders))\n",
    "faces_packed.sort(key=lambda e: natural_sort_key(e[0]))\n",
    "filenames, reps, rects, ages, genders = zip(*faces_packed)"
   ]
  },
  {
   "cell_type": "code",
   "execution_count": 164,
   "metadata": {},
   "outputs": [],
   "source": [
    "age_categories = []\n",
    "for age in ages:\n",
    "    for i, limit in enumerate(age_limits):\n",
    "        if age <= limit:\n",
    "            age_categories.append(i)\n",
    "            break"
   ]
  },
  {
   "cell_type": "code",
   "execution_count": 165,
   "metadata": {},
   "outputs": [
    {
     "data": {
      "text/plain": [
       "((31.899999618530273, 34.599998474121094, 36.099998474121094), [8, 10, 11])"
      ]
     },
     "execution_count": 165,
     "metadata": {},
     "output_type": "execute_result"
    }
   ],
   "source": [
    "ages[:3], age_categories[:3]"
   ]
  },
  {
   "cell_type": "code",
   "execution_count": 263,
   "metadata": {},
   "outputs": [],
   "source": [
    "onehots = np.zeros((len(filenames), 2 + len(age_limits)), dtype=np.float32)\n",
    "gender_age_categories = []"
   ]
  },
  {
   "cell_type": "code",
   "execution_count": 264,
   "metadata": {},
   "outputs": [],
   "source": [
    "for i, (gender, age_category) in enumerate(zip(genders, age_categories)):\n",
    "    category = age_category\n",
    "    if gender == 'male':\n",
    "        onehots[i, 0] = 1\n",
    "    elif gender == 'female':\n",
    "        onehots[i, 1] = 1\n",
    "        category *= 2\n",
    "    onehots[i, age_category+2] = 1\n",
    "    gender_age_categories.append(category)"
   ]
  },
  {
   "cell_type": "code",
   "execution_count": 265,
   "metadata": {},
   "outputs": [],
   "source": [
    "np.save('../data/openface+microsoft/npy32/gender-age.npy', np.asarray(onehots).astype(np.float32))\n",
    "np.save('../data/openface+microsoft/npy32/gender-age-categories.npy', np.asarray(gender_age_categories).astype(np.int64))"
   ]
  },
  {
   "cell_type": "code",
   "execution_count": 183,
   "metadata": {},
   "outputs": [],
   "source": [
    "np.save('../data/openface+microsoft/npy32/openface-descriptors.npy', np.asarray(reps).astype(np.float32))"
   ]
  },
  {
   "cell_type": "code",
   "execution_count": 238,
   "metadata": {},
   "outputs": [
    {
     "name": "stdout",
     "output_type": "stream",
     "text": [
      "209355 0:12:19 283.27/s\n"
     ]
    }
   ],
   "source": [
    "output_side = 32\n",
    "# output_dtype = np.uint8\n",
    "\n",
    "def job(task):\n",
    "    try:\n",
    "        fn, rect = task\n",
    "        fn = '../data/photos/png1600/' + fn\n",
    "        \n",
    "        # rects were computed on 800x800 images\n",
    "        n,s,w,e = (np.asarray(rect) * 2).astype(int)\n",
    "        \n",
    "        # force it square\n",
    "        rows = s - n\n",
    "        cols = e - w\n",
    "        side = min(rows, cols)\n",
    "        s = n + side\n",
    "        e = w + side\n",
    "        \n",
    "        img = imread(fn)\n",
    "        \n",
    "        face_img = safe_crop(img, n, s, w, e, fill=0)\n",
    "        face_img = imresize(face_img, max_side=output_side)\n",
    "        \n",
    "        return face_img\n",
    "    \n",
    "    except:\n",
    "        raise\n",
    "\n",
    "results = progress_parallel(job, list(zip(filenames, rects)))"
   ]
  },
  {
   "cell_type": "code",
   "execution_count": 239,
   "metadata": {},
   "outputs": [],
   "source": [
    "np.save('../data/openface+microsoft/npy32/images.npy', np.asarray(results).astype(np.uint8))"
   ]
  },
  {
   "cell_type": "code",
   "execution_count": 258,
   "metadata": {},
   "outputs": [],
   "source": [
    "# for i in np.random.randint(0, len(filenames), size=(4,)):\n",
    "#     imshow(results[i], zoom=4)\n",
    "#     print(genders[i])\n",
    "#     print(ages[i])"
   ]
  },
  {
   "cell_type": "code",
   "execution_count": null,
   "metadata": {},
   "outputs": [],
   "source": []
  }
 ],
 "metadata": {
  "kernelspec": {
   "display_name": "Python [conda env:tf3k]",
   "language": "python",
   "name": "conda-env-tf3k-py"
  },
  "language_info": {
   "codemirror_mode": {
    "name": "ipython",
    "version": 3
   },
   "file_extension": ".py",
   "mimetype": "text/x-python",
   "name": "python",
   "nbconvert_exporter": "python",
   "pygments_lexer": "ipython3",
   "version": "3.5.4"
  }
 },
 "nbformat": 4,
 "nbformat_minor": 2
}
