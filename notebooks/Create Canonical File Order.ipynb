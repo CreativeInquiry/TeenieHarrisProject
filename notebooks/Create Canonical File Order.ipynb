{
 "cells": [
  {
   "cell_type": "markdown",
   "metadata": {},
   "source": [
    "This code defines the canonical order for all the files.\n",
    "\n",
    "It ingests:\n",
    "\n",
    "- A folder of all the images\n",
    "\n",
    "And outputs:\n",
    "\n",
    "- `analysis/filename_order.txt` with lines that look like `Box_014/445.png`\n",
    "- `analysis/filename_order_box.txt` with lines that look like `Box_014`\n",
    "- `analysis/filename_order_id.txt` with lines that look like `445`"
   ]
  },
  {
   "cell_type": "code",
   "execution_count": 18,
   "metadata": {},
   "outputs": [],
   "source": [
    "from utils.list_all_files import *\n",
    "import numpy as np\n",
    "import re\n",
    "\n",
    "input_dir = '../data/photos/png1600'\n",
    "output_dir = '../data/analysis'\n",
    "\n",
    "def natural_sort_key(s, _nsre=re.compile('([0-9]+)')):\n",
    "    return [int(text) if text.isdigit() else text.lower()\n",
    "            for text in _nsre.split(s)]\n",
    "\n",
    "def get_box(fn):\n",
    "    return os.path.split(fn)[0]\n",
    "\n",
    "def get_id(fn):\n",
    "    return os.path.splitext(os.path.basename(fn))[0]\n",
    "\n",
    "filenames = list(list_all_files(input_dir))\n",
    "filenames = [os.path.relpath(e, input_dir) for e in filenames]\n",
    "filenames.sort(key=lambda fn: natural_sort_key(get_id(fn)))\n",
    "\n",
    "np.savetxt(os.path.join(output_dir, 'filename_order.txt'), filenames, fmt='%s')\n",
    "np.savetxt(os.path.join(output_dir, 'filename_order_box.txt'), list(map(get_box, filenames)), fmt='%s')\n",
    "np.savetxt(os.path.join(output_dir, 'filename_order_id.txt'), list(map(get_id, filenames)), fmt='%s')"
   ]
  }
 ],
 "metadata": {
  "kernelspec": {
   "display_name": "Python 3",
   "language": "python",
   "name": "python3"
  },
  "language_info": {
   "codemirror_mode": {
    "name": "ipython",
    "version": 3
   },
   "file_extension": ".py",
   "mimetype": "text/x-python",
   "name": "python",
   "nbconvert_exporter": "python",
   "pygments_lexer": "ipython3",
   "version": "3.6.8"
  }
 },
 "nbformat": 4,
 "nbformat_minor": 2
}
