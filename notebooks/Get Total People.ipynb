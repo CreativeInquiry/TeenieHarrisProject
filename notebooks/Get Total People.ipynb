{
 "cells": [
  {
   "cell_type": "markdown",
   "metadata": {},
   "source": [
    "This code ingests:\n",
    "\n",
    "- JSON files from `people_in_images/json`, which contains many pieces of combined metadata from different sources.\n",
    "    \n",
    "And outputs:\n",
    "    \n",
    "- `face_counts/counts.npy` the total number of faces in each photo \n",
    "- `face_counts/categories.npy` the categorical total number of faces (5-7 faces, 8-14 faces, and 14+ faces are separate categories)\n",
    "- `face_counts/category-descriptions.txt` the descriptions of the number of faces for each category bin"
   ]
  },
  {
   "cell_type": "code",
   "execution_count": 1,
   "metadata": {},
   "outputs": [
    {
     "name": "stdout",
     "output_type": "stream",
     "text": [
      "59278 0:01:01 970.49/s\n"
     ]
    }
   ],
   "source": [
    "from utils.list_all_files import *\n",
    "from utils.progress import *\n",
    "import matplotlib.pyplot as plt\n",
    "import numpy as np\n",
    "import ujson as json\n",
    "import re\n",
    "\n",
    "input_dir = '../data/analysis/people_in_images/json'\n",
    "\n",
    "def natural_sort_key(s, _nsre=re.compile('([0-9]+)')):\n",
    "    return [int(text) if text.isdigit() else text.lower()\n",
    "            for text in _nsre.split(s)]\n",
    "\n",
    "def get_id(fn):\n",
    "    return os.path.splitext(os.path.basename(fn))[0]\n",
    "\n",
    "def job(task):\n",
    "    data = json.load(open(task))\n",
    "    return len(data['people'])\n",
    "\n",
    "tasks = list(list_all_files(input_dir))\n",
    "tasks.sort(key=lambda x: natural_sort_key(get_id(x)))\n",
    "totals = progress_parallel(job, tasks)"
   ]
  },
  {
   "cell_type": "code",
   "execution_count": 2,
   "metadata": {},
   "outputs": [],
   "source": [
    "totals = np.asarray(totals)"
   ]
  },
  {
   "cell_type": "code",
   "execution_count": 3,
   "metadata": {},
   "outputs": [
    {
     "data": {
      "text/plain": [
       "'data/analysis/people_in_images/json/46539.json'"
      ]
     },
     "execution_count": 3,
     "metadata": {},
     "output_type": "execute_result"
    }
   ],
   "source": [
    "tasks[np.where(totals == totals.max())[0][0]] # photo with the most people"
   ]
  },
  {
   "cell_type": "code",
   "execution_count": 4,
   "metadata": {},
   "outputs": [],
   "source": [
    "face_count, total_instances = np.unique(totals, return_counts=True)"
   ]
  },
  {
   "cell_type": "code",
   "execution_count": 5,
   "metadata": {},
   "outputs": [
    {
     "data": {
      "text/plain": [
       "[(0, 3177),\n",
       " (1, 15848),\n",
       " (2, 7791),\n",
       " (3, 4494),\n",
       " (4, 3879),\n",
       " (5, 3073),\n",
       " (6, 2410),\n",
       " (7, 2057),\n",
       " (8, 1759),\n",
       " (9, 1544)]"
      ]
     },
     "execution_count": 5,
     "metadata": {},
     "output_type": "execute_result"
    }
   ],
   "source": [
    "list(zip(face_count, total_instances))[:10]"
   ]
  },
  {
   "cell_type": "code",
   "execution_count": 6,
   "metadata": {},
   "outputs": [
    {
     "data": {
      "image/png": "[encoded data removed]",
      "text/plain": [
       "<Figure size 432x288 with 1 Axes>"
      ]
     },
     "metadata": {},
     "output_type": "display_data"
    }
   ],
   "source": [
    "plt.plot(face_count, total_instances)\n",
    "plt.yscale('log')\n",
    "plt.show()"
   ]
  },
  {
   "cell_type": "code",
   "execution_count": 7,
   "metadata": {},
   "outputs": [
    {
     "data": {
      "text/plain": [
       "4.0"
      ]
     },
     "execution_count": 7,
     "metadata": {},
     "output_type": "execute_result"
    }
   ],
   "source": [
    "np.percentile(totals, 55)"
   ]
  },
  {
   "cell_type": "code",
   "execution_count": 8,
   "metadata": {},
   "outputs": [
    {
     "data": {
      "image/png": "[encoded data removed]",
      "text/plain": [
       "<Figure size 432x288 with 1 Axes>"
      ]
     },
     "metadata": {},
     "output_type": "display_data"
    }
   ],
   "source": [
    "categories = np.copy(totals)\n",
    "categories[totals > 4] = 5\n",
    "categories[totals > 7] = 6\n",
    "categories[totals > 14] = 7\n",
    "plt.plot(*np.unique(categories, return_counts=True))\n",
    "plt.show()"
   ]
  },
  {
   "cell_type": "code",
   "execution_count": 9,
   "metadata": {},
   "outputs": [],
   "source": [
    "np.save('../data/analysis/face_counts/counts.npy', totals)"
   ]
  },
  {
   "cell_type": "code",
   "execution_count": 10,
   "metadata": {},
   "outputs": [],
   "source": [
    "np.save('../data/analysis/face_counts/categories.npy', categories)"
   ]
  },
  {
   "cell_type": "code",
   "execution_count": 11,
   "metadata": {},
   "outputs": [],
   "source": [
    "descriptions = ['0', '1', '2', '3', '4', '5-7', '8-13', '14+']\n",
    "descriptions_fn = '../data/analysis/face_counts/category-descriptions.txt'\n",
    "np.savetxt(descriptions_fn, descriptions, fmt='%s')"
   ]
  }
 ],
 "metadata": {
  "kernelspec": {
   "display_name": "Python 3",
   "language": "python",
   "name": "python3"
  },
  "language_info": {
   "codemirror_mode": {
    "name": "ipython",
    "version": 3
   },
   "file_extension": ".py",
   "mimetype": "text/x-python",
   "name": "python",
   "nbconvert_exporter": "python",
   "pygments_lexer": "ipython3",
   "version": "3.6.8"
  }
 },
 "nbformat": 4,
 "nbformat_minor": 2
}
