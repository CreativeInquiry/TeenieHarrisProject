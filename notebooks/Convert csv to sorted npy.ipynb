{
 "cells": [
  {
   "cell_type": "markdown",
   "metadata": {},
   "source": [
    "This code converts from `.csv` files with matching `filenames.txt` and re-orders them and saves to `.npy` files in canonical order."
   ]
  },
  {
   "cell_type": "code",
   "execution_count": 1,
   "metadata": {},
   "outputs": [],
   "source": [
    "import numpy as np\n",
    "import pandas as pd\n",
    "import os\n",
    "\n",
    "def get_id(fn):\n",
    "    return os.path.splitext(os.path.basename(fn))[0]\n",
    "\n",
    "def read_csv(fn):\n",
    "    return pd.read_csv(fn, header=None).as_matrix()\n",
    "\n",
    "def csv_to_canonical_npy(canonical_fn, filenames_fn, csv_fn, npy_fn):\n",
    "    canonical_filenames = open(canonical_fn).read().splitlines()\n",
    "    data_filenames = open(filenames_fn).read().splitlines()\n",
    "    data = read_csv(csv_fn)\n",
    "    canonical_ids = [get_id(e) for e in canonical_filenames]\n",
    "    data_ids = [get_id(e) for e in data_filenames]\n",
    "    data_index = {key:i for i,key in enumerate(data_ids)}\n",
    "    data_argsort = [data_index[e] for e in canonical_ids]\n",
    "    data_canonical = data[data_argsort]\n",
    "    np.save(npy_fn, data_canonical)"
   ]
  },
  {
   "cell_type": "code",
   "execution_count": 2,
   "metadata": {},
   "outputs": [],
   "source": [
    "canonical_filenames_fn = '../data/analysis/canonical_filename_order.txt'\n",
    "inception_filenames_fn = '../data/dcnn/inceptionv3/filenames.txt'\n",
    "vgg_filenames_fn = '../data/dcnn/vgg/filenames.txt'\n",
    "\n",
    "csv_to_canonical_npy(canonical_filenames_fn, inception_filenames_fn,\n",
    "                     '../data/dcnn/inceptionv3/predictions.csv',\n",
    "                     '../data/dcnn/inceptionv3/predictions_canonical.npy')\n",
    "\n",
    "csv_to_canonical_npy(canonical_filenames_fn, inception_filenames_fn,\n",
    "                     '../data/dcnn/inceptionv3/features.csv',\n",
    "                     '../data/dcnn/inceptionv3/features_canonical.npy')\n",
    "\n",
    "csv_to_canonical_npy(canonical_filenames_fn, vgg_filenames_fn,\n",
    "                     '../data/dcnn/vgg/features.csv',\n",
    "                     '../data/dcnn/vgg/features_canonical.npy')"
   ]
  }
 ],
 "metadata": {
  "kernelspec": {
   "display_name": "Python 3",
   "language": "python",
   "name": "python3"
  },
  "language_info": {
   "codemirror_mode": {
    "name": "ipython",
    "version": 3
   },
   "file_extension": ".py",
   "mimetype": "text/x-python",
   "name": "python",
   "nbconvert_exporter": "python",
   "pygments_lexer": "ipython3",
   "version": "3.6.8"
  }
 },
 "nbformat": 4,
 "nbformat_minor": 2
}
