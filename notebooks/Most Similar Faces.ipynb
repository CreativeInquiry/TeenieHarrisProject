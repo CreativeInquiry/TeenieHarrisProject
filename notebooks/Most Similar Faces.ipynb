{
 "cells": [
  {
   "cell_type": "code",
   "execution_count": 2,
   "metadata": {},
   "outputs": [],
   "source": [
    "from utils.imutil import *\n",
    "from utils.mosaic import *\n",
    "from utils.progress import *\n",
    "import numpy as np\n",
    "import matplotlib.pyplot as plt\n",
    "from sklearn.neighbors import NearestNeighbors"
   ]
  },
  {
   "cell_type": "code",
   "execution_count": 3,
   "metadata": {},
   "outputs": [],
   "source": [
    "descriptors = np.load('../data/openface+microsoft/npy32/openface-descriptors.npy')\n",
    "images = np.load('../data/openface+microsoft/npy32/images.npy')"
   ]
  },
  {
   "cell_type": "code",
   "execution_count": 4,
   "metadata": {},
   "outputs": [],
   "source": [
    "nbrs = NearestNeighbors(n_neighbors=8).fit(descriptors)"
   ]
  },
  {
   "cell_type": "code",
   "execution_count": 5,
   "metadata": {},
   "outputs": [
    {
     "name": "stdout",
     "output_type": "stream",
     "text": [
      "1000 0:00:14 70.45/s\n"
     ]
    }
   ],
   "source": [
    "def job(task):\n",
    "    distances, kn = nbrs.kneighbors([descriptors[task]])\n",
    "    distances = distances.reshape(-1)\n",
    "    kn = kn.reshape(-1)\n",
    "    return distances, kn\n",
    "\n",
    "exact_nearest_neighbors = progress_parallel(job, range(1000))"
   ]
  },
  {
   "cell_type": "code",
   "execution_count": 6,
   "metadata": {},
   "outputs": [
    {
     "data": {
      "image/png": "[encoded data removed]",
      "text/plain": [
       "<matplotlib.figure.Figure at 0x7f5ea009bc50>"
      ]
     },
     "metadata": {},
     "output_type": "display_data"
    }
   ],
   "source": [
    "for i in range(1,6):\n",
    "    top_distances = [distances[i] for distances, kn in exact_nearest_neighbors]\n",
    "    plt.hist(top_distances, bins=40, histtype='step', label=str(i), range=(0.1,0.8))\n",
    "plt.legend()\n",
    "plt.show()"
   ]
  },
  {
   "cell_type": "code",
   "execution_count": 22,
   "metadata": {},
   "outputs": [
    {
     "name": "stdout",
     "output_type": "stream",
     "text": [
      "[0.         0.18271172]\n",
      "[111403 111410]\n"
     ]
    },
    {
     "data": {
      "image/png": "[encoded data removed]",
      "text/plain": [
       "<IPython.core.display.Image object>"
      ]
     },
     "metadata": {
      "image/png": {
       "height": 128,
       "width": 256
      }
     },
     "output_type": "display_data"
    },
    {
     "name": "stdout",
     "output_type": "stream",
     "text": [
      "skipped 6\n"
     ]
    }
   ],
   "source": [
    "total = 0\n",
    "skipped = 0\n",
    "threshold = 0.2\n",
    "while total < 1:\n",
    "    i = np.random.randint(0, len(images))\n",
    "    distances, kn = nbrs.kneighbors([descriptors[i]])\n",
    "    kn = kn.reshape(-1)\n",
    "    distances = distances.reshape(-1)\n",
    "    near = np.sum(distances < threshold)\n",
    "    if near < 2:\n",
    "        skipped += 1\n",
    "        continue\n",
    "    print(distances[:near])\n",
    "    print(kn[:near])\n",
    "    imshow(make_mosaic(images[kn[:near]], ny=1), zoom=4)\n",
    "    total += 1\n",
    "\n",
    "print('skipped', skipped)"
   ]
  }
 ],
 "metadata": {
  "kernelspec": {
   "display_name": "Python [conda env:tf3k]",
   "language": "python",
   "name": "conda-env-tf3k-py"
  },
  "language_info": {
   "codemirror_mode": {
    "name": "ipython",
    "version": 3
   },
   "file_extension": ".py",
   "mimetype": "text/x-python",
   "name": "python",
   "nbconvert_exporter": "python",
   "pygments_lexer": "ipython3",
   "version": "3.5.4"
  }
 },
 "nbformat": 4,
 "nbformat_minor": 2
}
