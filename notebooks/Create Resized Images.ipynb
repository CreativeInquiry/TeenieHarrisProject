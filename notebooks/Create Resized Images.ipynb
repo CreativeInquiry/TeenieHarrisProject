{
 "cells": [
  {
   "cell_type": "markdown",
   "metadata": {},
   "source": [
    "This code ingests:\n",
    "    \n",
    "- A set of photos (e.g. `photos/png1600` or `depth/png320`)\n",
    "\n",
    "And outputs:\n",
    "\n",
    "- A `.npy` file or a set of `.jpg` or `.png` images containing resized and cropped versions of the images.\n",
    "\n",
    "This notebook also shows a preview of the resized images in a grid of small multiples when saving .npy files."
   ]
  },
  {
   "cell_type": "code",
   "execution_count": 134,
   "metadata": {},
   "outputs": [],
   "source": [
    "from utils.imutil import *\n",
    "from utils.list_all_files import *\n",
    "from utils.crop import *\n",
    "from utils.progress import *\n",
    "from utils.mosaic import *\n",
    "import os\n",
    "import re"
   ]
  },
  {
   "cell_type": "code",
   "execution_count": 135,
   "metadata": {},
   "outputs": [],
   "source": [
    "input_dir = '../data/photos/png1600'\n",
    "output_dir = '../data/photos/npy32'\n",
    "\n",
    "# input_dir = '../data/detectron/png1600'\n",
    "# output_dir = '../data/detectron/npy32'\n",
    "\n",
    "# input_dir = '../data/depth/png320'\n",
    "# output_dir = '../data/depth/npy32'\n",
    "\n",
    "# input_dir = '../data/saliency/jpg640'\n",
    "# output_dir = '../data/saliency/npy32'\n",
    "\n",
    "# input_dir = '../data/openface/jpg640-ellipses'\n",
    "# output_dir = '../data/openface/npy32-ellipses'\n",
    "\n",
    "output_fmt = '.npy' # .jpg, .png, .npy\n",
    "output_side = 32\n",
    "max_n = None #256\n",
    "\n",
    "# crop = outer_square_crop\n",
    "crop = inner_square_crop\n",
    "# crop = None\n",
    "\n",
    "covert_to_grayscale = True # False\n",
    "output_dtype = np.uint8 # None"
   ]
  },
  {
   "cell_type": "code",
   "execution_count": 136,
   "metadata": {
    "scrolled": false
   },
   "outputs": [
    {
     "name": "stdout",
     "output_type": "stream",
     "text": [
      "59278 0:01:14 801.70/s\n"
     ]
    },
    {
     "data": {
      "image/png": "[encoded data removed]",
      "text/plain": [
       "<IPython.core.display.Image object>"
      ]
     },
     "metadata": {
      "image/png": {
       "height": 512,
       "width": 512
      }
     },
     "output_type": "display_data"
    }
   ],
   "source": [
    "def natural_sort_key(s, _nsre=re.compile('([0-9]+)')):\n",
    "    return [int(text) if text.isdigit() else text.lower()\n",
    "            for text in _nsre.split(s)]\n",
    "\n",
    "def get_id(fn):\n",
    "    return os.path.splitext(os.path.basename(fn))[0]\n",
    "\n",
    "def job(task):\n",
    "    try:\n",
    "        input_fn, output_fn = task\n",
    "        img = imread(input_fn)\n",
    "        if crop is not None:\n",
    "            img = crop(img)\n",
    "        img = imresize(img, max_side=output_side)\n",
    "        if covert_to_grayscale and len(img.shape) == 3:\n",
    "            img = img.mean(axis=2)\n",
    "        if output_dtype is not None:\n",
    "            img = img.astype(output_dtype)\n",
    "        if output_fmt == '.npy':\n",
    "            return img\n",
    "        else:\n",
    "            imwrite(output_fn, img)\n",
    "            return img.shape\n",
    "    except:\n",
    "        print('Error:', input_fn)\n",
    "        raise\n",
    "\n",
    "tasks = []\n",
    "for input_fn in list_all_files(input_dir):\n",
    "    relpath = os.path.relpath(input_fn, input_dir)\n",
    "    reldir = os.path.split(relpath)[0]\n",
    "    if output_fmt == '.npy':\n",
    "        tasks.append((input_fn, relpath))\n",
    "    else:\n",
    "        output_fn = os.path.join(output_dir, os.path.splitext(relpath)[0] + output_fmt)\n",
    "        os.makedirs(os.path.split(output_fn)[0], exist_ok=True)\n",
    "        tasks.append((input_fn, output_fn))\n",
    "        \n",
    "tasks.sort(key=lambda x: natural_sort_key(get_id(x[0])))\n",
    "\n",
    "if max_n is not None:\n",
    "    tasks = tasks[:max_n]\n",
    "\n",
    "results = progress_parallel(job, tasks)\n",
    "\n",
    "if output_fmt == '.npy':\n",
    "    images = np.asarray(results)\n",
    "    imshow(make_mosaic(images[:256]))\n",
    "    \n",
    "    os.makedirs(output_dir, exist_ok=True)\n",
    "    np.save(os.path.join(output_dir, 'images.npy'), images)"
   ]
  }
 ],
 "metadata": {
  "kernelspec": {
   "display_name": "Python 3",
   "language": "python",
   "name": "python3"
  },
  "language_info": {
   "codemirror_mode": {
    "name": "ipython",
    "version": 3
   },
   "file_extension": ".py",
   "mimetype": "text/x-python",
   "name": "python",
   "nbconvert_exporter": "python",
   "pygments_lexer": "ipython3",
   "version": "3.6.8"
  }
 },
 "nbformat": 4,
 "nbformat_minor": 2
}
