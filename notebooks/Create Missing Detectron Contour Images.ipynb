{
 "cells": [
  {
   "cell_type": "markdown",
   "metadata": {},
   "source": [
    "Detectron sometimes has trouble loading images, and instead of outputting empty json it outputs nothing. Here we make up for that by finding images without any Detectron json, and generating black contour images.\n",
    "\n",
    "This code ingests:\n",
    "\n",
    "- The detectron `.json` files.\n",
    "- The photos from `photos/png1600`.\n",
    "\n",
    "And outputs:\n",
    "\n",
    "- Empty (black) images to `detectron/png1600` for any missing `.json` files."
   ]
  },
  {
   "cell_type": "code",
   "execution_count": 19,
   "metadata": {},
   "outputs": [],
   "source": [
    "from utils.list_all_files import *\n",
    "from utils.imutil import *\n",
    "from utils.progress import progress\n",
    "import numpy as np\n",
    "import os"
   ]
  },
  {
   "cell_type": "code",
   "execution_count": 8,
   "metadata": {},
   "outputs": [],
   "source": [
    "detectron_filenames = list(list_all_files('../data/detectron/json/'))\n",
    "photos_filenames = list(list_all_files('../data/photos/png1600/'))\n",
    "output_dir = '../data/detectron/png1600/'\n",
    "\n",
    "def get_id(fn):\n",
    "    return os.path.splitext(os.path.basename(fn))[0]\n",
    "\n",
    "detectron_filenames = set([get_id(e) for e in detectron_filenames])"
   ]
  },
  {
   "cell_type": "code",
   "execution_count": 22,
   "metadata": {},
   "outputs": [
    {
     "name": "stdout",
     "output_type": "stream",
     "text": [
      "59278 0:00:51 1164.44/s\n"
     ]
    }
   ],
   "source": [
    "for fn in progress(photos_filenames):\n",
    "    cur_id = get_id(fn)\n",
    "    if cur_id not in detectron_filenames:\n",
    "        img = imread(fn)\n",
    "        h, w = img.shape\n",
    "        result = np.zeros((h, w, 3), dtype=np.uint8)\n",
    "        imwrite(os.path.join(output_dir, cur_id + '.png'), result)"
   ]
  }
 ],
 "metadata": {
  "kernelspec": {
   "display_name": "Python 3",
   "language": "python",
   "name": "python3"
  },
  "language_info": {
   "codemirror_mode": {
    "name": "ipython",
    "version": 3
   },
   "file_extension": ".py",
   "mimetype": "text/x-python",
   "name": "python",
   "nbconvert_exporter": "python",
   "pygments_lexer": "ipython3",
   "version": "3.6.8"
  }
 },
 "nbformat": 4,
 "nbformat_minor": 2
}
